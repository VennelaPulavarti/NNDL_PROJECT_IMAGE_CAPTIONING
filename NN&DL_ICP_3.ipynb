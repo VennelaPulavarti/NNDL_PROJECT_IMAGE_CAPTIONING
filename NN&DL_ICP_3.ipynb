{
  "nbformat": 4,
  "nbformat_minor": 0,
  "metadata": {
    "colab": {
      "provenance": [],
      "authorship_tag": "ABX9TyMV+2yaJXoZOzO5QJbRlBTJ",
      "include_colab_link": true
    },
    "kernelspec": {
      "name": "python3",
      "display_name": "Python 3"
    },
    "language_info": {
      "name": "python"
    }
  },
  "cells": [
    {
      "cell_type": "markdown",
      "metadata": {
        "id": "view-in-github",
        "colab_type": "text"
      },
      "source": [
        "<a href=\"https://colab.research.google.com/github/VennelaPulavarti/NNDL_PROJECT_IMAGE_CAPTIONING/blob/main/NN%26DL_ICP_3.ipynb\" target=\"_parent\"><img src=\"https://colab.research.google.com/assets/colab-badge.svg\" alt=\"Open In Colab\"/></a>"
      ]
    },
    {
      "cell_type": "markdown",
      "source": [
        "Github Link : https://github.com/VennelaPulavarti/NNandDLclass3.git\n",
        "\n",
        "video explanation link : https://drive.google.com/file/d/1rZJGKXhaquyUefQgiI0mr7x1fgkOeJz8/view?usp=drive_link\n",
        "\n",
        "submission confirmation number :  232c34970b4f45a3910cf0607120da9e"
      ],
      "metadata": {
        "id": "QbFbmePD8c-m"
      }
    },
    {
      "cell_type": "code",
      "source": [
        "# QUE 1\n",
        "\n",
        "class Employee:\n",
        "    # DATA MEMBER TO COUNT THE NUMBER OF EMPLOYEES\n",
        "    empCount = 0\n",
        "\n",
        "    # CONSTRUCTOR TO INITIALIZE NAME, FAMILY, SALARY, DEPARTMENT\n",
        "    def __init__(self, name, family, salary, department):\n",
        "        self.name = name\n",
        "        self.family = family\n",
        "        self.salary = salary\n",
        "        self.department = department\n",
        "        Employee.empCount += 1    # EMPLOYEE COUNT\n",
        "\n",
        "    # FUNCTION FOR AVERAGE SALARY OF EMPLOYEE\n",
        "    def avg_salary(self):\n",
        "        total_salary = 0\n",
        "        total_salary += float(self.salary)\n",
        "        avg = total_salary / Employee.empCount\n",
        "        print('Average salary of the Employee:', avg)\n",
        "\n",
        "    # TO DISPLAY DETAILS OF EMPLOYEE\n",
        "    def display(self):\n",
        "        print('Employee Name:', self.name)\n",
        "        print('Family Members:', self.family)\n",
        "        print('Employee Annual Salary:', self.salary)\n",
        "        print('Department:', self.department)\n",
        "        print(\"==========\")\n",
        "\n",
        "# INHERITING - EMPLOYEE CLASS\n",
        "class Fulltime_Employee(Employee):\n",
        "    def __init__(self, name, family, salary, department, emp_type):\n",
        "        Employee.__init__(self, name, family, salary, department)\n",
        "        self.emp_type = emp_type\n",
        "\n",
        "    #FUNCTION TO DISPLAY EMPLOYEE DETAILS\n",
        "    def display(self):\n",
        "        print(\"Employee Name :\", self.name)\n",
        "        print('Family Members:', self.family)\n",
        "        print('Employee Annual Salary:', self.salary)\n",
        "        print('Department:', self.department)\n",
        "        print('Type of Employment :', self.emp_type)\n",
        "        print(\"==========\")\n",
        "\n",
        "\n",
        "# INSTANCES FOR EMPLOYEE CLASS\n",
        "emp1 = Employee('Vennela', '4', '650000', 'Software Engineer')\n",
        "# INSTANCE FOR FULL TIME EMPLOYEE\n",
        "emp2 = Fulltime_Employee('Varshitha', '5', '516000', 'Software Engineer', 'Fulltime')\n",
        "emp3 = Fulltime_Employee('Aashritha', '5', '900000', 'Web Developer', 'Fulltime')\n",
        "\n",
        "print(\"Count of the Employees :\", emp1.empCount)\n",
        "emp1.avg_salary()\n",
        "emp1.display()\n",
        "emp2.display()\n",
        "emp3.display()"
      ],
      "metadata": {
        "colab": {
          "base_uri": "https://localhost:8080/"
        },
        "id": "yiOPg-IqvSd_",
        "outputId": "0d04c7f3-981d-41ea-dc92-ae9935e4e0cd"
      },
      "execution_count": null,
      "outputs": [
        {
          "output_type": "stream",
          "name": "stdout",
          "text": [
            "Count of the Employees : 3\n",
            "Average salary of the Employee: 216666.66666666666\n",
            "Employee Name: Vennela\n",
            "Family Members: 4\n",
            "Employee Annual Salary: 650000\n",
            "Department: Software Engineer\n",
            "==========\n",
            "Employee Name : Varshitha\n",
            "Family Members: 5\n",
            "Employee Annual Salary: 516000\n",
            "Department: Software Engineer\n",
            "Type of Employment : Fulltime\n",
            "==========\n",
            "Employee Name : Aashritha\n",
            "Family Members: 5\n",
            "Employee Annual Salary: 900000\n",
            "Department: Web Developer\n",
            "Type of Employment : Fulltime\n",
            "==========\n"
          ]
        }
      ]
    },
    {
      "cell_type": "code",
      "source": [
        "# QUE 2\n",
        "\n",
        "import numpy as np\n",
        "\n",
        "# creating array of size 20\n",
        "random_vector = np.random.uniform(1, 20, 20)\n",
        "print(\"Random Vector : \\n\", random_vector)\n",
        "\n",
        "# reshape the array to 4 by 5\n",
        "random_vector = random_vector.reshape(4,5)\n",
        "print(\"after reshaping (4 by 5): \\n\", random_vector)\n",
        "\n",
        "# replace the max in each row\n",
        "random_vector[np.arange(len(random_vector)), random_vector.argmax(1)] = 0\n",
        "print(\"Replacing the max in each row : \\n\", random_vector)"
      ],
      "metadata": {
        "colab": {
          "base_uri": "https://localhost:8080/"
        },
        "id": "-5A3shkUvdhF",
        "outputId": "3a2ac177-7823-407c-ca2c-1ad211cc5336"
      },
      "execution_count": null,
      "outputs": [
        {
          "output_type": "stream",
          "name": "stdout",
          "text": [
            "Random Vector : \n",
            " [18.93852593 13.45452219 11.29743779 17.97563781  2.13412365 15.3353389\n",
            " 10.15368052 15.80037573 16.70703409 10.34821086  1.57803665  9.53309637\n",
            " 14.40535914  6.55498017  2.56170118  9.29190522  6.20055296  4.10659471\n",
            "  4.32449996  9.65556658]\n",
            "after reshaping (4 by 5): \n",
            " [[18.93852593 13.45452219 11.29743779 17.97563781  2.13412365]\n",
            " [15.3353389  10.15368052 15.80037573 16.70703409 10.34821086]\n",
            " [ 1.57803665  9.53309637 14.40535914  6.55498017  2.56170118]\n",
            " [ 9.29190522  6.20055296  4.10659471  4.32449996  9.65556658]]\n",
            "Replacing the max in each row : \n",
            " [[ 0.         13.45452219 11.29743779 17.97563781  2.13412365]\n",
            " [15.3353389  10.15368052 15.80037573  0.         10.34821086]\n",
            " [ 1.57803665  9.53309637  0.          6.55498017  2.56170118]\n",
            " [ 9.29190522  6.20055296  4.10659471  4.32449996  0.        ]]\n"
          ]
        }
      ]
    }
  ]
}